{
 "cells": [
  {
   "cell_type": "code",
   "execution_count": 3,
   "metadata": {},
   "outputs": [],
   "source": [
    "import random\n",
    "import string\n",
    "import numpy as np"
   ]
  },
  {
   "cell_type": "code",
   "execution_count": 22,
   "metadata": {
    "scrolled": true
   },
   "outputs": [],
   "source": [
    "def generateCross(n,wordbank,threshold):\n",
    "#     n = 10\n",
    "    crossword = [ [ '?' for i in range(n) ] for j in range(n) ]\n",
    "    \n",
    "    word = wordbank[0]\n",
    "#     threshold = 0.7\n",
    "#     word = \"hello\"\n",
    "    placed = 0\n",
    "    wordlength = len(word)\n",
    "    for Ridx in range(0,n):\n",
    "        for Cidx in range(0,n):\n",
    "            if (placed !=len(wordbank)):\n",
    "                word = wordbank[placed]\n",
    "                #flip a coin and decide where to place it\n",
    "                num = random.randint(0,100)\n",
    "                if(num/100 >= threshold):\n",
    "                    direction = random.randint(1,4)\n",
    "                    #check where it can fit\n",
    "    #                     write the word v ( down)\n",
    "                    if (direction == 1 and Ridx+len(word) <= n):\n",
    "                        for letIdx in range(len(word)):\n",
    "                            crossword[Ridx+letIdx][Cidx] = word[letIdx]+ \"\" \n",
    "                        placed +=1\n",
    "                        \n",
    "    #                     write the word Up\n",
    "                    if (direction == 2 and Ridx-len(word) >= 0):\n",
    "                        for letIdx in range(len(word)):\n",
    "                            crossword[Ridx-letIdx][Cidx] = word[letIdx]+ \"\" \n",
    "                        placed +=1\n",
    "                        \n",
    "    #                     write the word ->\n",
    "                    if (direction == 3 and Cidx+len(word) <= n):\n",
    "                        for letIdx in range(len(word)):\n",
    "                            crossword[Ridx][Cidx+letIdx] = word[letIdx]+ \"\" \n",
    "                        placed +=1\n",
    "                        \n",
    "    #                     write the word <-\n",
    "                    if (direction == 4 and Cidx-len(word) >= 0):\n",
    "                        for letIdx in range(len(word)):\n",
    "                            crossword[Ridx][Cidx-letIdx] = word[letIdx]+ \"\" \n",
    "                        placed +=1\n",
    "                        \n",
    "                    else:\n",
    "                        if(crossword[Ridx][Cidx] == '?'):\n",
    "                            crossword[Ridx][Cidx] = random.choice(string.ascii_letters)+\"\"\n",
    "    #             did not pass threshold so we dont place word\n",
    "                else:\n",
    "                    crossword[Ridx][Cidx] = random.choice(string.ascii_letters)+\"\"\n",
    "\n",
    "\n",
    "            else:\n",
    "                #we already placed the word now time to add random letters\n",
    "                if(crossword[Ridx][Cidx] == '?'):\n",
    "                    crossword[Ridx][Cidx] = random.choice(string.ascii_letters)+\"\" \n",
    "    return crossword\n",
    "\n",
    "def printCross(crossword,n):\n",
    "    for Ridx in range(0,n):\n",
    "        print(\"|\",end =\" \")\n",
    "        for Cidx in range(0,n):\n",
    "            print(crossword[Ridx][Cidx], end =\" \")\n",
    "        print(\"|\")\n",
    "#say n,n in beginning of txt file  "
   ]
  },
  {
   "cell_type": "code",
   "execution_count": 21,
   "metadata": {},
   "outputs": [
    {
     "name": "stdout",
     "output_type": "stream",
     "text": [
      "$4\n",
      "| M H 9 1 2 8 i J V U |\n",
      "| P Z t Z C P d s n k |\n",
      "| M U E N O T g t D u |\n",
      "| r W h X s Y u w a t |\n",
      "| e X F G n Q t m i T |\n",
      "| v B t v V o f h x j |\n",
      "| n m b o v J b K N c |\n",
      "| o G z Y T a G D Z U |\n",
      "| S Y f t W M i i L H |\n",
      "| l z Y j s E y B D y |\n"
     ]
    }
   ],
   "source": [
    "wordbank = [\"HELLO\", \"BOOM\", \"8219\"]\n",
    "crossword = generateCross(10,wordbank, 0.8)\n",
    "printCross(crossword,10)"
   ]
  },
  {
   "cell_type": "code",
   "execution_count": 23,
   "metadata": {},
   "outputs": [],
   "source": [
    "# number of words\n",
    "def generateWB(n,m):\n",
    "    wb = []\n",
    "    for words in range (0,m):\n",
    "        word = \"\"\n",
    "        lengthOfWord = random.randint(1,n)\n",
    "        for letter in range(0,lengthOfWord):\n",
    "            word += random.choice(string.ascii_letters)\n",
    "        wb.append(word)\n",
    "    return wb"
   ]
  },
  {
   "cell_type": "code",
   "execution_count": 24,
   "metadata": {},
   "outputs": [
    {
     "name": "stdout",
     "output_type": "stream",
     "text": [
      "['mnKo', 'vbY']\n"
     ]
    }
   ],
   "source": [
    "wb = generateWB(5,2)\n",
    "print(wb)"
   ]
  },
  {
   "cell_type": "code",
   "execution_count": 27,
   "metadata": {},
   "outputs": [],
   "source": [
    "numOfWords = 5\n",
    "n = 20\n",
    "threshold = 0.7\n",
    "\n",
    "wordbank = generateWB(n,numOfWords)\n",
    "crossword = generateCross(n,wordbank, threshold)\n",
    "f = open(\"crossword.txt\", \"w\")\n",
    "f.write(\"%d %d\\n\"%(n,n))\n",
    "for Ridx in range(0,n):\n",
    "    for Cidx in range(0,n):\n",
    "        f.write(crossword[Ridx][Cidx])\n",
    "    f.write(\"\\n\")\n",
    "f.close()\n",
    "\n",
    "f2 = open(\"worbank.txt\", \"w\")\n",
    "f2.write(\"%d \\n\" %(numOfWords))\n",
    "for word in range(0,numOfWords):\n",
    "    f2.write(wordbank[word] + \"\\n\")\n",
    "f2.close()\n",
    "\n"
   ]
  },
  {
   "cell_type": "code",
   "execution_count": null,
   "metadata": {},
   "outputs": [],
   "source": []
  }
 ],
 "metadata": {
  "kernelspec": {
   "display_name": "Python 3",
   "language": "python",
   "name": "python3"
  },
  "language_info": {
   "codemirror_mode": {
    "name": "ipython",
    "version": 3
   },
   "file_extension": ".py",
   "mimetype": "text/x-python",
   "name": "python",
   "nbconvert_exporter": "python",
   "pygments_lexer": "ipython3",
   "version": "3.8.5"
  }
 },
 "nbformat": 4,
 "nbformat_minor": 4
}
